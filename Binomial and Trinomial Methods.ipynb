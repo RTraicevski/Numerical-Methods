{
 "cells": [
  {
   "cell_type": "markdown",
   "metadata": {},
   "source": [
    "## Binomial and Trinomial Model for Option Pricing (Euro)\n",
    "\n",
    "\n",
    "The BOPM and TOPM are specific cases of a multinomial distribution, that is, for example in the case of the BOPM, we have two different outcomes with assigned probabilities, and we can have as many trails as needed.\n",
    "\n",
    "In both models used below, we have specifically used the up and down factors to ensure that for many trials, we should converge on the price given from the BSM model. Also remember that a Binomial distribution can be shown to converge to the normal distribution as we increase the number of trials, so the previous statement isnt surprising, and highlights the very deliberate choice for these methods use in pricing options"
   ]
  },
  {
   "cell_type": "markdown",
   "metadata": {},
   "source": [
    "## Generic Binomial Method (Slow)"
   ]
  },
  {
   "cell_type": "code",
   "execution_count": 10,
   "metadata": {},
   "outputs": [],
   "source": [
    "import numpy as np\n",
    "from scipy.stats import norm\n",
    "import matplotlib.pyplot as plt"
   ]
  },
  {
   "cell_type": "code",
   "execution_count": 14,
   "metadata": {},
   "outputs": [],
   "source": [
    "# Initialise parameters\n",
    "S0 = 100      # initial stock price\n",
    "K = 100       # strike price\n",
    "T = 1         # time to maturity in years\n",
    "r = 0.06      # annual risk-free rate\n",
    "vol = 0.3    # volatility\n",
    "N = 30        # number of time steps\n",
    "opttype = 1 # Option Type 1 for call, 2 for Put"
   ]
  },
  {
   "cell_type": "code",
   "execution_count": 4,
   "metadata": {},
   "outputs": [],
   "source": [
    "norm = norm.cdf\n",
    "\n",
    "def BS_CALL(S0, K, T, r, vol):\n",
    "    d1 = (np.log(S0/K) + (r + vol**2/2)*T) / (vol*np.sqrt(T))\n",
    "    d2 = d1 - (vol * np.sqrt(T))\n",
    "    return S0 * norm(d1) - K * np.exp(-r*T)* norm(d2)"
   ]
  },
  {
   "cell_type": "code",
   "execution_count": 5,
   "metadata": {},
   "outputs": [
    {
     "name": "stdout",
     "output_type": "stream",
     "text": [
      "14.644810381657857\n",
      "14.717072420289298\n"
     ]
    }
   ],
   "source": [
    "\n",
    "def BinomEuro(S0,K,T,r,N,vol,opttype):\n",
    "    #Compute Constants\n",
    "    dt = T/(N)\n",
    "    disc = np.exp(-r*dt)\n",
    "  \n",
    "    A = (1/2)*(np.exp(-r*dt) + np.exp((r+vol**2)*dt))\n",
    "\n",
    "    u = A + np.sqrt((A**2)-1) #Move up\n",
    "    d = A - np.sqrt((A**2)-1) #Move down\n",
    "    qu = (np.exp(r*dt)-d)/(u-d)\n",
    "    qd = 1 - qu\n",
    "    \n",
    "    \n",
    "    # Initialise underlying price \n",
    "    \n",
    "    S = np.zeros(N+1)\n",
    "    S[0]=S0*d**N\n",
    "    for j in range(1,N+1):\n",
    "        S[j] = S[j-1]*u/d\n",
    "    \n",
    "    # Initialise option values at maturity\n",
    "    C = np.zeros(N+1)\n",
    "    \n",
    "    if opttype == 1:\n",
    "        for j in range(0,N+1):\n",
    "            C[j]=max(0,S[j]-K)\n",
    "  \n",
    "    elif opttype == 2:\n",
    "        for j in range(0,N+1):\n",
    "             C[j]=max(0,K-S[j])\n",
    " \n",
    "        \n",
    "\n",
    "    #Traverse backwards through tree\n",
    "    for i in np.arange(N,0,-1):\n",
    "        for j in range(0,i):\n",
    "            C[j] = disc * ( qu*C[j+1] + (qd)*C[j] )\n",
    "    \n",
    "    return C[0]\n",
    "\n",
    "            \n",
    "    \n",
    "    \n",
    "print(BinomEuro(S0,K,T,r,N,vol,opttype)) \n",
    "print(BS_CALL(S0, K, T, r, vol))\n",
    "    \n",
    "        \n"
   ]
  },
  {
   "cell_type": "code",
   "execution_count": 11,
   "metadata": {},
   "outputs": [
    {
     "data": {
      "image/png": "[encoded data removed]",
      "text/plain": [
       "<Figure size 432x288 with 1 Axes>"
      ]
     },
     "metadata": {
      "needs_background": "light"
     },
     "output_type": "display_data"
    }
   ],
   "source": [
    "BinomEuCall = []\n",
    "\n",
    "periods = range(10,500,10)\n",
    "for i in periods:\n",
    "    price = BinomEuro(S0,K,T,r,i,vol,1)\n",
    "    BinomEuCall.append(price)\n",
    "\n",
    "    \n",
    "plt.plot(periods,BinomEuCall, label='Call Option' )\n",
    "plt.title('Convergence of approximations as time steps increases')\n",
    "plt.axhline(y=14.7170, color='r', linestyle='-', label='BSM Price')\n",
    "plt.legend(loc='upper right')\n",
    "plt.xlabel(\"Time steps\")\n",
    "plt.ylabel(\"Option Price\")\n",
    "plt.show()\n",
    "    \n",
    "    \n"
   ]
  },
  {
   "cell_type": "markdown",
   "metadata": {},
   "source": [
    "## Trinomial Method \n",
    "\n",
    "(Work in progress)"
   ]
  },
  {
   "cell_type": "code",
   "execution_count": 29,
   "metadata": {},
   "outputs": [],
   "source": [
    "## 1 for call, 2 for put\n",
    "\n",
    "\n",
    "def TrinomEuro(S0,K,T,r,N,vol,opttype):\n",
    "    \n",
    "    ### Constants\n",
    "    Lambda = 2\n",
    "    dt = T/(N)\n",
    "    disc = np.exp(-r*dt)\n",
    "    \n",
    "    \n",
    "    u = np.exp(vol*Lambda*np.sqrt(dt))\n",
    "    d = np.exp(-vol*Lambda*np.sqrt(dt))\n",
    "    m = 1\n",
    "    \n",
    "    rootdt = np.sqrt(dt)\n",
    "    \n",
    "    qu = (1/2*Lambda**2) + ((r - (vol**2)/2)*rootdt)/(2*Lambda*vol)\n",
    "    \n",
    "    qd = 1 - 1/Lambda**2\n",
    "    \n",
    "    qm = (1/2*Lambda**2) - ((r - (vol**2)/2)*rootdt)/(2*Lambda*vol)\n",
    "    \n",
    "    #Initialise underlying price tree\n",
    "    \n",
    "      \n",
    "            \n",
    "            \n",
    "    \n"
   ]
  }
 ],
 "metadata": {
  "kernelspec": {
   "display_name": "Python 3",
   "language": "python",
   "name": "python3"
  },
  "language_info": {
   "codemirror_mode": {
    "name": "ipython",
    "version": 3
   },
   "file_extension": ".py",
   "mimetype": "text/x-python",
   "name": "python",
   "nbconvert_exporter": "python",
   "pygments_lexer": "ipython3",
   "version": "3.8.3"
  }
 },
 "nbformat": 4,
 "nbformat_minor": 4
}
