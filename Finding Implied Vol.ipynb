{
 "cells": [
  {
   "cell_type": "markdown",
   "metadata": {},
   "source": [
    "## Root Finding Algorithms for Implied Volatility (Vanilla Options)\n",
    "\n",
    "Deriving the Implied Volatilities from market prices is an inverse problem. Instead of finding the inverted form of the put or call price formula, if an invertible form even exists, we can instead turn to two very common root finding methods."
   ]
  },
  {
   "cell_type": "markdown",
   "metadata": {},
   "source": [
    "## Bisection Method"
   ]
  },
  {
   "cell_type": "code",
   "execution_count": 1,
   "metadata": {},
   "outputs": [],
   "source": [
    "import numpy as np\n",
    "import matplotlib.pyplot as plt\n",
    "from scipy.stats import norm\n"
   ]
  },
  {
   "cell_type": "code",
   "execution_count": 2,
   "metadata": {},
   "outputs": [],
   "source": [
    "N = norm.cdf\n",
    "\n",
    "def BS_CALL(S, K, T, r, sigma):\n",
    "    d1 = (np.log(S/K) + (r + sigma**2/2)*T) / (sigma*np.sqrt(T))\n",
    "    d2 = d1 - (sigma * np.sqrt(T))\n",
    "    return S * N(d1) - K * np.exp(-r*T)* N(d2)"
   ]
  },
  {
   "cell_type": "code",
   "execution_count": 3,
   "metadata": {},
   "outputs": [
    {
     "name": "stdout",
     "output_type": "stream",
     "text": [
      "33.355467060212774\n"
     ]
    }
   ],
   "source": [
    "# We shall arbitrarily give the inputs\n",
    "S = 140\n",
    "K = 150\n",
    "T = 3\n",
    "r = 0.05\n",
    "IV_Known= 0.3\n",
    "\n",
    "Call_Price = BS_CALL(S, K, T, r, IV_Known)\n",
    "print(Call_Price)"
   ]
  },
  {
   "cell_type": "markdown",
   "metadata": {},
   "source": [
    "We now want to find the unknown root (IV) that will give the current call option price\n",
    "\n",
    "BISECTION METHOD\n",
    "The bisection method can only be used for finding roots, that is f(r)=0 and requires\n",
    "the Intermediate Value Theorem to be True. Thus, to make the bisection method work, we will\n",
    "shift BS_CALL(IV, .) by - Price to make it zero when the right IV is found\n",
    "\n"
   ]
  },
  {
   "cell_type": "code",
   "execution_count": 5,
   "metadata": {},
   "outputs": [
    {
     "name": "stdout",
     "output_type": "stream",
     "text": [
      "IV of BS_CALL at the approx root using Bisection Method = 0.2999942016601562\n",
      "(0.2999942016601562, None)\n"
     ]
    }
   ],
   "source": [
    "a = 0.01 #Lower guess for IV\n",
    "b = 0.9 # Upper Guess for IV\n",
    "acc = 0.001 # accuracy / tolerance for between actual IV\n",
    "\n",
    "def bisect(BS_CALL, a, b, acc):\n",
    "    \n",
    "\n",
    "    if (BS_CALL(S, K, T, r, a)-Call_Price)*(BS_CALL(S, K, T, r, b)-Call_Price) > 0:\n",
    "   \n",
    "      \n",
    "        raise Exception(\"No root within the interval\")\n",
    "        \n",
    "    m = (a+b)/2 \n",
    "      \n",
    "\n",
    "    if np.abs(BS_CALL(S, K, T, r, m) -Call_Price  ) < acc:\n",
    "        return m ,print(\"IV of BS_CALL at the approx root using Bisection Method =\", m)\n",
    "    \n",
    "    \n",
    "    elif np.sign(BS_CALL(S, K, T, r, a) -Call_Price) == np.sign(BS_CALL(S, K, T, r, m)-Call_Price):\n",
    "       \n",
    "        return bisect(BS_CALL, m, b, acc)\n",
    "    \n",
    "    elif np.sign(BS_CALL(S, K, T, r, b)-Call_Price) == np.sign(BS_CALL(S, K, T, r, m)-Call_Price):\n",
    " \n",
    "        return bisect(BS_CALL, a, m, acc)\n",
    "\n",
    "approx_IV = bisect(BS_CALL, a, b, acc)\n",
    "print(approx_IV)"
   ]
  },
  {
   "cell_type": "markdown",
   "metadata": {},
   "source": [
    "## Newton's Method\n",
    "\n",
    "For Newtons method to work, we will require the derivative of the BS_CALL with\n",
    "respect to volatility which is also known as vega. Note, Vega for a Put or Call is the same by Put Call parity"
   ]
  },
  {
   "cell_type": "code",
   "execution_count": 6,
   "metadata": {},
   "outputs": [
    {
     "name": "stdout",
     "output_type": "stream",
     "text": [
      "IV of BS_CALL at the approx root using Newton Method = 0.29999990466614934\n",
      "(0.29999990466614934, None)\n"
     ]
    }
   ],
   "source": [
    "def Vega_BS_Call(S, K, T, r, sigma):\n",
    "    \n",
    "    d1 = (np.log(S/K) + (r + sigma**2/2)*T) / (sigma*np.sqrt(T))\n",
    "    return S*np.sqrt(T) * norm.pdf(d1)\n",
    "\n",
    "\n",
    "Xo = 0.4 #Inital guess for IV         \n",
    "tol = 0.001\n",
    "            \n",
    "\n",
    "def newt(BS_CALL, Vega_BS_Call, Xo, tol):\n",
    "    \n",
    "\n",
    "    if abs(BS_CALL(S, K, T, r, Xo) - Call_Price) < tol:\n",
    "        return Xo, print(\"IV of BS_CALL at the approx root using Newton Method =\", Xo)\n",
    "    \n",
    "\n",
    "    else:\n",
    "        return newt(BS_CALL, Vega_BS_Call , Xo - (BS_CALL(S, K, T, r, Xo)-Call_Price)/Vega_BS_Call(S, K, T, r, Xo), tol)\n",
    " \n",
    "\n",
    "approx_iv_newt = newt(BS_CALL, Vega_BS_Call, Xo, tol)\n",
    "print(approx_iv_newt)"
   ]
  }
 ],
 "metadata": {
  "kernelspec": {
   "display_name": "Python 3",
   "language": "python",
   "name": "python3"
  },
  "language_info": {
   "codemirror_mode": {
    "name": "ipython",
    "version": 3
   },
   "file_extension": ".py",
   "mimetype": "text/x-python",
   "name": "python",
   "nbconvert_exporter": "python",
   "pygments_lexer": "ipython3",
   "version": "3.8.3"
  }
 },
 "nbformat": 4,
 "nbformat_minor": 4
}
