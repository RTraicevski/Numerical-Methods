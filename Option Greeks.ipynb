{
 "cells": [
  {
   "cell_type": "markdown",
   "metadata": {},
   "source": [
    "## Option Greeks for Euro Put or Call (No Dividend)"
   ]
  },
  {
   "cell_type": "markdown",
   "metadata": {},
   "source": [
    "These are interpreted in two ways,\n",
    "\n",
    "1. Quantities represeneting the sensitivity of the value of the Option to changes in one or more underlying parameters, in which the the option value is dependent on\n",
    "\n",
    "2. Partial derivatives of Option Value with respect to the dependent variables or inputs "
   ]
  },
  {
   "cell_type": "code",
   "execution_count": 1,
   "metadata": {},
   "outputs": [],
   "source": [
    "import numpy as np\n",
    "from scipy.stats import norm\n",
    "import matplotlib.pyplot as plt"
   ]
  },
  {
   "cell_type": "code",
   "execution_count": 2,
   "metadata": {},
   "outputs": [],
   "source": [
    "## BSM Formulas for European Call or Put, \n",
    "# C or P respectively\n",
    "\n",
    "norm = norm.cdf\n",
    "\n",
    "def BSM(S, K, T, r, sigma, opttype =\"C\"):\n",
    "    d1 = (np.log(S/K) + (r + sigma**2/2)*T) / (sigma*np.sqrt(T))\n",
    "    d2 = d1 - (sigma * np.sqrt(T))\n",
    "    if opttype == \"C\":\n",
    "        price = S*norm(d1)-K*np.exp(-r*T)*norm(d2)\n",
    "    elif opttype ==\"P\":\n",
    "        price = K*np.exp(-r*T)*norm(-d2)-S*norm(-d1)\n",
    "    return price\n",
    "    \n",
    "\n"
   ]
  },
  {
   "cell_type": "code",
   "execution_count": 3,
   "metadata": {},
   "outputs": [
    {
     "data": {
      "text/plain": [
       "0.5132843798399405"
      ]
     },
     "execution_count": 3,
     "metadata": {},
     "output_type": "execute_result"
    }
   ],
   "source": [
    "r = 0.01\n",
    "S = 30\n",
    "K = 40\n",
    "T = 240/365\n",
    "sigma = 0.30\n",
    "\n",
    "BSM(S, K, T, r, sigma, opttype =\"C\")\n",
    "\n"
   ]
  },
  {
   "cell_type": "markdown",
   "metadata": {},
   "source": [
    "## Vega\n",
    "\n",
    "Measures sensitivity to volatility. Partial derivative of Option Price w.r.t to volatility of the underlying. Since we are only dealing with a Euro Put or Call, then by put call parity, Vega is the same for either option type"
   ]
  },
  {
   "cell_type": "code",
   "execution_count": 4,
   "metadata": {},
   "outputs": [],
   "source": [
    "def vega(r, S, K, T, sigma):\n",
    "    d1 = (np.log(S/K) + (r + sigma**2/2)*T) / (sigma*np.sqrt(T))\n",
    "    d2 = d1 - (sigma * np.sqrt(T))\n",
    "    vega = S*norm.pdf(d1)*np.sqrt(T)\n",
    "    \n",
    "    return vega*0.01 ## To scale to % changes\n",
    "    "
   ]
  },
  {
   "cell_type": "markdown",
   "metadata": {},
   "source": [
    "## Delta\n",
    "\n",
    "Measures the rate of change of the option value w.r.t change in the underlying's price."
   ]
  },
  {
   "cell_type": "code",
   "execution_count": 5,
   "metadata": {},
   "outputs": [],
   "source": [
    "def delt(S, K, T, r, sigma, opttype =\"C\"):\n",
    "    d1 = (np.log(S/K) + (r + sigma**2/2)*T) / (sigma*np.sqrt(T))\n",
    "    \n",
    "    if opttype == \"C\":\n",
    "        delta = norm.cdf(d1)\n",
    "    elif opttype ==\"P\":\n",
    "        delta = norm.cdf(-d1)\n",
    "    return delta\n",
    "    \n",
    "    \n",
    "    "
   ]
  },
  {
   "cell_type": "markdown",
   "metadata": {},
   "source": [
    "## Gamma\n",
    "\n",
    "Measures rate of change of Delta w.r.t to changes in underlying price. Twice partial derivative of option price w.r.t to underlying price. Gamma is the same for either put or call"
   ]
  },
  {
   "cell_type": "code",
   "execution_count": 6,
   "metadata": {},
   "outputs": [],
   "source": [
    "def Gamma(S, K, T, r, sigma, opttype =\"C\"):\n",
    "    d1 = (np.log(S/K) + (r + sigma**2/2)*T) / (sigma*np.sqrt(T))\n",
    "    d2 = d1 - (sigma * np.sqrt(T))\n",
    "    \n",
    "    gamma = norm.pdf(d1)/(S*sigma*np.sqrt(T))\n",
    "    \n",
    "    return gamma\n",
    "    \n",
    "    "
   ]
  },
  {
   "cell_type": "markdown",
   "metadata": {},
   "source": [
    "## Theta\n",
    "\n",
    "Measures option value with the change of time"
   ]
  },
  {
   "cell_type": "code",
   "execution_count": 7,
   "metadata": {},
   "outputs": [],
   "source": [
    "def Theta(S, K, T, r, sigma, opttype =\"C\"):\n",
    "    d1 = (np.log(S/K) + (r + sigma**2/2)*T) / (sigma*np.sqrt(T))\n",
    "    d2 = d1 - (sigma * np.sqrt(T))\n",
    "    \n",
    "    if opttype == \"C\":\n",
    "        theta = -S*norm.pdf(d1)*sigma/(2*np.sqrt(T)) - r*K*np/exp(-r*T)*norm.cdf(d2)\n",
    "    elif opttype ==\"P\":\n",
    "        theta = -S*norm.pdf(d1)*sigma/(2*np.sqrt(T)) + r*K*np/exp(-r*T)*norm.cdf(-d2)\n",
    "    return theta/365 ## Scaled to days\n",
    "    \n",
    "    "
   ]
  },
  {
   "cell_type": "markdown",
   "metadata": {},
   "source": [
    "## Rho\n",
    "\n",
    "Measures sensitivity to the interest rate. Partial derivative of option value w.r.t the risk free interest rate"
   ]
  },
  {
   "cell_type": "code",
   "execution_count": 8,
   "metadata": {},
   "outputs": [],
   "source": [
    "def Rho(S, K, T, r, sigma, opttype =\"C\"):\n",
    "    d1 = (np.log(S/K) + (r + sigma**2/2)*T) / (sigma*np.sqrt(T))\n",
    "    d2 = d1 - (sigma * np.sqrt(T))\n",
    "    \n",
    "    if opttype == \"C\":\n",
    "        rho = K*T*np.exp(-r*T)*norm.cdf(d2)\n",
    "    elif opttype ==\"P\":\n",
    "        rho = -K*T*np.exp(-r*T)*norm.cdf(-d2)\n",
    "    \n",
    "    return rho\n",
    "    "
   ]
  }
 ],
 "metadata": {
  "kernelspec": {
   "display_name": "Python 3",
   "language": "python",
   "name": "python3"
  },
  "language_info": {
   "codemirror_mode": {
    "name": "ipython",
    "version": 3
   },
   "file_extension": ".py",
   "mimetype": "text/x-python",
   "name": "python",
   "nbconvert_exporter": "python",
   "pygments_lexer": "ipython3",
   "version": "3.8.3"
  }
 },
 "nbformat": 4,
 "nbformat_minor": 4
}
